{
 "cells": [
  {
   "cell_type": "markdown",
   "id": "58244417-090b-402b-968f-4f07660c9a64",
   "metadata": {},
   "source": [
    "1. Multithreading is used to performance optimisation \n",
    "of the programs by running programs in multiple threads on one single core.\n",
    "\n",
    "We can use import threading"
   ]
  },
  {
   "cell_type": "markdown",
   "id": "0025a93d-5d90-4cec-b1fa-6fdbfb482db0",
   "metadata": {},
   "source": [
    "2.We use threading module to call thread method to initialise the function \n",
    "activeCount()-This method returns the total currently active thread count.\n",
    "currentThread()- The threading.current_thread() is an inbuilt method of the threading module, it is used to return the current Thread object, which corresponds to the caller's thread of control.\n",
    "enumerate()-The threading.enumerate() is an inbuilt method of the threading module, it is used to return the list of all the Thread class objects which are currently alive. It also includes daemonic threads, the main thread, and dummy thread objects created by current_thread(). It does not count the threads that have terminated or which have not started yet."
   ]
  },
  {
   "cell_type": "markdown",
   "id": "d8d23b93-db90-4d63-a041-2e654178fe7c",
   "metadata": {},
   "source": [
    "3. run() - The run() method can be overridden with different instructions and statements in a separate subclass.\n",
    "start() - The .start() method activates and prompts a thread object to be run.\n",
    "join()- The .join() method delays a program’s flow of execution until the target thread has been completely read.\n",
    "is_alive()-.is_alive() method returns True if the thread is still running and False, otherwise.\n",
    "\n"
   ]
  },
  {
   "cell_type": "code",
   "execution_count": 9,
   "id": "9d7e3018-b119-4625-8c32-0ab195120995",
   "metadata": {},
   "outputs": [],
   "source": [
    "#4\n",
    "\n",
    "import threading\n",
    "def sq(l):\n",
    "    l=[i**2 for i in l]\n",
    "    print(l)\n",
    "def cb(l):\n",
    "    l=[i**3 for i in l]\n",
    "    print(l)"
   ]
  },
  {
   "cell_type": "code",
   "execution_count": 17,
   "id": "01365d37-14ae-4f9a-923c-2247ce80e134",
   "metadata": {},
   "outputs": [],
   "source": [
    "thread_sq= threading.Thread(target=sq,args=([1,2,3,4,5],))\n",
    "thread_cb=threading.Thread(target=cb,args=([1,2,3,4,5],))"
   ]
  },
  {
   "cell_type": "code",
   "execution_count": 18,
   "id": "66337816-6784-44da-94ed-e06145055805",
   "metadata": {},
   "outputs": [
    {
     "name": "stdout",
     "output_type": "stream",
     "text": [
      "[1, 4, 9, 16, 25]\n",
      "[1, 8, 27, 64, 125]\n"
     ]
    }
   ],
   "source": [
    "thread_sq.start()\n",
    "thread_sq.join()\n",
    "thread_cb.start()\n",
    "thread_cb.join()"
   ]
  },
  {
   "cell_type": "markdown",
   "id": "f84f9498-d2f4-4a21-8b9d-e17482e6b3ab",
   "metadata": {},
   "source": [
    "5. \n",
    "Advantags of multithreading ---\n",
    "Python multithreading enables efficient utilization of the resources as the threads share the data space and memory.\n",
    "\n",
    "Disadvantages for Multithreading ---\n",
    "\n",
    "Difficulty of writing code. \n",
    "Multithreaded and multicontexted applications are not easy to write\n",
    "Difficulty of debugging.\n",
    "Difficulty of managing concurrency. "
   ]
  },
  {
   "cell_type": "markdown",
   "id": "3f893d42-0f47-4285-b237-b610bfe95cf8",
   "metadata": {},
   "source": [
    "6. \n",
    "A deadlock is a concurrency failure mode where a thread or threads wait for a condition that never occurs.\n",
    "A race condition occurs when two or more threads try to access a shared variable simultaneously, leading to unpredictable outcomes."
   ]
  },
  {
   "cell_type": "code",
   "execution_count": null,
   "id": "889017f0-b37a-4ca4-9244-df9482043dfb",
   "metadata": {},
   "outputs": [],
   "source": []
  }
 ],
 "metadata": {
  "kernelspec": {
   "display_name": "Python 3 (ipykernel)",
   "language": "python",
   "name": "python3"
  },
  "language_info": {
   "codemirror_mode": {
    "name": "ipython",
    "version": 3
   },
   "file_extension": ".py",
   "mimetype": "text/x-python",
   "name": "python",
   "nbconvert_exporter": "python",
   "pygments_lexer": "ipython3",
   "version": "3.10.8"
  }
 },
 "nbformat": 4,
 "nbformat_minor": 5
}
